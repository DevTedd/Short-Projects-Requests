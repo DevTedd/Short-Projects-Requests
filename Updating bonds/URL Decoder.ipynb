{
 "cells": [
  {
   "cell_type": "code",
   "execution_count": 2,
   "metadata": {},
   "outputs": [
    {
     "name": "stdout",
     "output_type": "stream",
     "text": [
      "https://dyerandblaironline.com/research_web/Implied Yield/2023/\n"
     ]
    }
   ],
   "source": [
    "import urllib.parse\n",
    "\n",
    "def decode_url(url):\n",
    "  \"\"\"Decodes a URL.\n",
    "\n",
    "  Args:\n",
    "    url: The URL to decode.\n",
    "\n",
    "  Returns:\n",
    "    The decoded URL.\n",
    "  \"\"\"\n",
    "\n",
    "  decoded_url = urllib.parse.unquote(url)\n",
    "  return decoded_url\n",
    "\n",
    "if __name__ == \"__main__\":\n",
    "  url = \"https://dyerandblaironline.com/research_web/Implied%20Yield/2023/July/Implied%20Yields%2028-07-2023.pdf\"\n",
    "  decoded_url = decode_url(url)\n",
    "  url2 = \"https://dyerandblaironline.com/research_web/Implied%20Yield/2023/\"\n",
    "  decoded_url2 = decode_url(url2)\n",
    "  print(decoded_url2)\n"
   ]
  },
  {
   "cell_type": "code",
   "execution_count": 4,
   "metadata": {},
   "outputs": [
    {
     "ename": "ComputeError",
     "evalue": "error open file: iris.csv, error open file: iris.csv, The system cannot find the file specified. (os error 2)",
     "output_type": "error",
     "traceback": [
      "\u001b[1;31m---------------------------------------------------------------------------\u001b[0m",
      "\u001b[1;31mComputeError\u001b[0m                              Traceback (most recent call last)",
      "Cell \u001b[1;32mIn[4], line 4\u001b[0m\n\u001b[0;32m      1\u001b[0m \u001b[39mimport\u001b[39;00m \u001b[39mpolars\u001b[39;00m \u001b[39mas\u001b[39;00m \u001b[39mpl\u001b[39;00m\n\u001b[0;32m      3\u001b[0m q \u001b[39m=\u001b[39m (\n\u001b[1;32m----> 4\u001b[0m     pl\u001b[39m.\u001b[39;49mscan_csv(\u001b[39m\"\u001b[39;49m\u001b[39miris.csv\u001b[39;49m\u001b[39m\"\u001b[39;49m)\n\u001b[0;32m      5\u001b[0m     \u001b[39m.\u001b[39mfilter(pl\u001b[39m.\u001b[39mcol(\u001b[39m\"\u001b[39m\u001b[39msepal_length\u001b[39m\u001b[39m\"\u001b[39m) \u001b[39m>\u001b[39m \u001b[39m5\u001b[39m)\n\u001b[0;32m      6\u001b[0m     \u001b[39m.\u001b[39mgroupby(\u001b[39m\"\u001b[39m\u001b[39mspecies\u001b[39m\u001b[39m\"\u001b[39m)\n\u001b[0;32m      7\u001b[0m     \u001b[39m.\u001b[39magg(pl\u001b[39m.\u001b[39mall()\u001b[39m.\u001b[39msum())\n\u001b[0;32m      8\u001b[0m )\n\u001b[0;32m     10\u001b[0m df \u001b[39m=\u001b[39m q\u001b[39m.\u001b[39mcollect()\n",
      "File \u001b[1;32mc:\\Users\\tkmwangi\\AppData\\Local\\Programs\\Python\\Python311\\Lib\\site-packages\\polars\\io\\csv\\functions.py:875\u001b[0m, in \u001b[0;36mscan_csv\u001b[1;34m(source, has_header, separator, comment_char, quote_char, skip_rows, dtypes, null_values, missing_utf8_is_empty_string, ignore_errors, cache, with_column_names, infer_schema_length, n_rows, encoding, low_memory, rechunk, skip_rows_after_header, row_count_name, row_count_offset, try_parse_dates, eol_char, new_columns)\u001b[0m\n\u001b[0;32m    872\u001b[0m \u001b[39mif\u001b[39;00m \u001b[39misinstance\u001b[39m(source, (\u001b[39mstr\u001b[39m, Path)):\n\u001b[0;32m    873\u001b[0m     source \u001b[39m=\u001b[39m normalise_filepath(source)\n\u001b[1;32m--> 875\u001b[0m \u001b[39mreturn\u001b[39;00m pl\u001b[39m.\u001b[39;49mLazyFrame\u001b[39m.\u001b[39;49m_scan_csv(\n\u001b[0;32m    876\u001b[0m     source,\n\u001b[0;32m    877\u001b[0m     has_header\u001b[39m=\u001b[39;49mhas_header,\n\u001b[0;32m    878\u001b[0m     separator\u001b[39m=\u001b[39;49mseparator,\n\u001b[0;32m    879\u001b[0m     comment_char\u001b[39m=\u001b[39;49mcomment_char,\n\u001b[0;32m    880\u001b[0m     quote_char\u001b[39m=\u001b[39;49mquote_char,\n\u001b[0;32m    881\u001b[0m     skip_rows\u001b[39m=\u001b[39;49mskip_rows,\n\u001b[0;32m    882\u001b[0m     dtypes\u001b[39m=\u001b[39;49mdtypes,  \u001b[39m# type: ignore[arg-type]\u001b[39;49;00m\n\u001b[0;32m    883\u001b[0m     null_values\u001b[39m=\u001b[39;49mnull_values,\n\u001b[0;32m    884\u001b[0m     missing_utf8_is_empty_string\u001b[39m=\u001b[39;49mmissing_utf8_is_empty_string,\n\u001b[0;32m    885\u001b[0m     ignore_errors\u001b[39m=\u001b[39;49mignore_errors,\n\u001b[0;32m    886\u001b[0m     cache\u001b[39m=\u001b[39;49mcache,\n\u001b[0;32m    887\u001b[0m     with_column_names\u001b[39m=\u001b[39;49mwith_column_names,\n\u001b[0;32m    888\u001b[0m     infer_schema_length\u001b[39m=\u001b[39;49minfer_schema_length,\n\u001b[0;32m    889\u001b[0m     n_rows\u001b[39m=\u001b[39;49mn_rows,\n\u001b[0;32m    890\u001b[0m     low_memory\u001b[39m=\u001b[39;49mlow_memory,\n\u001b[0;32m    891\u001b[0m     rechunk\u001b[39m=\u001b[39;49mrechunk,\n\u001b[0;32m    892\u001b[0m     skip_rows_after_header\u001b[39m=\u001b[39;49mskip_rows_after_header,\n\u001b[0;32m    893\u001b[0m     encoding\u001b[39m=\u001b[39;49mencoding,\n\u001b[0;32m    894\u001b[0m     row_count_name\u001b[39m=\u001b[39;49mrow_count_name,\n\u001b[0;32m    895\u001b[0m     row_count_offset\u001b[39m=\u001b[39;49mrow_count_offset,\n\u001b[0;32m    896\u001b[0m     try_parse_dates\u001b[39m=\u001b[39;49mtry_parse_dates,\n\u001b[0;32m    897\u001b[0m     eol_char\u001b[39m=\u001b[39;49meol_char,\n\u001b[0;32m    898\u001b[0m )\n",
      "File \u001b[1;32mc:\\Users\\tkmwangi\\AppData\\Local\\Programs\\Python\\Python311\\Lib\\site-packages\\polars\\lazyframe\\frame.py:348\u001b[0m, in \u001b[0;36mLazyFrame._scan_csv\u001b[1;34m(cls, source, has_header, separator, comment_char, quote_char, skip_rows, dtypes, null_values, missing_utf8_is_empty_string, ignore_errors, cache, with_column_names, infer_schema_length, n_rows, encoding, low_memory, rechunk, skip_rows_after_header, row_count_name, row_count_offset, try_parse_dates, eol_char)\u001b[0m\n\u001b[0;32m    345\u001b[0m processed_null_values \u001b[39m=\u001b[39m _process_null_values(null_values)\n\u001b[0;32m    347\u001b[0m \u001b[39mself\u001b[39m \u001b[39m=\u001b[39m \u001b[39mcls\u001b[39m\u001b[39m.\u001b[39m\u001b[39m__new__\u001b[39m(\u001b[39mcls\u001b[39m)\n\u001b[1;32m--> 348\u001b[0m \u001b[39mself\u001b[39m\u001b[39m.\u001b[39m_ldf \u001b[39m=\u001b[39m PyLazyFrame\u001b[39m.\u001b[39;49mnew_from_csv(\n\u001b[0;32m    349\u001b[0m     source,\n\u001b[0;32m    350\u001b[0m     separator,\n\u001b[0;32m    351\u001b[0m     has_header,\n\u001b[0;32m    352\u001b[0m     ignore_errors,\n\u001b[0;32m    353\u001b[0m     skip_rows,\n\u001b[0;32m    354\u001b[0m     n_rows,\n\u001b[0;32m    355\u001b[0m     cache,\n\u001b[0;32m    356\u001b[0m     dtype_list,\n\u001b[0;32m    357\u001b[0m     low_memory,\n\u001b[0;32m    358\u001b[0m     comment_char,\n\u001b[0;32m    359\u001b[0m     quote_char,\n\u001b[0;32m    360\u001b[0m     processed_null_values,\n\u001b[0;32m    361\u001b[0m     missing_utf8_is_empty_string,\n\u001b[0;32m    362\u001b[0m     infer_schema_length,\n\u001b[0;32m    363\u001b[0m     with_column_names,\n\u001b[0;32m    364\u001b[0m     rechunk,\n\u001b[0;32m    365\u001b[0m     skip_rows_after_header,\n\u001b[0;32m    366\u001b[0m     encoding,\n\u001b[0;32m    367\u001b[0m     _prepare_row_count_args(row_count_name, row_count_offset),\n\u001b[0;32m    368\u001b[0m     try_parse_dates,\n\u001b[0;32m    369\u001b[0m     eol_char\u001b[39m=\u001b[39;49meol_char,\n\u001b[0;32m    370\u001b[0m )\n\u001b[0;32m    371\u001b[0m \u001b[39mreturn\u001b[39;00m \u001b[39mself\u001b[39m\n",
      "\u001b[1;31mComputeError\u001b[0m: error open file: iris.csv, error open file: iris.csv, The system cannot find the file specified. (os error 2)"
     ]
    }
   ],
   "source": [
    "import polars as pl\n",
    "\n",
    "q = (\n",
    "    pl.scan_csv(\"iris.csv\")\n",
    "    .filter(pl.col(\"sepal_length\") > 5)\n",
    "    .groupby(\"species\")\n",
    "    .agg(pl.all().sum())\n",
    ")\n",
    "\n",
    "df = q.collect()"
   ]
  },
  {
   "cell_type": "code",
   "execution_count": null,
   "metadata": {},
   "outputs": [],
   "source": []
  }
 ],
 "metadata": {
  "kernelspec": {
   "display_name": "Python 3",
   "language": "python",
   "name": "python3"
  },
  "language_info": {
   "codemirror_mode": {
    "name": "ipython",
    "version": 3
   },
   "file_extension": ".py",
   "mimetype": "text/x-python",
   "name": "python",
   "nbconvert_exporter": "python",
   "pygments_lexer": "ipython3",
   "version": "3.11.4"
  },
  "orig_nbformat": 4
 },
 "nbformat": 4,
 "nbformat_minor": 2
}
