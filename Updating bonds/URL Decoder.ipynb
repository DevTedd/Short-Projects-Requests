{
 "cells": [
  {
   "cell_type": "code",
   "execution_count": null,
   "metadata": {},
   "outputs": [],
   "source": [
    "import urllib.parse\n",
    "\n",
    "def decode_url(url):\n",
    "  \"\"\"Decodes a URL.\n",
    "\n",
    "  Args:\n",
    "    url: The URL to decode.\n",
    "\n",
    "  Returns:\n",
    "    The decoded URL.\n",
    "  \"\"\"\n",
    "\n",
    "  decoded_url = urllib.parse.unquote(url)\n",
    "  return decoded_url\n",
    "\n",
    "if __name__ == \"__main__\":\n",
    "  url = \"https://dyerandblaironline.com/research_web/Implied%20Yield/2023/July/Implied%20Yields%2028-07-2023.pdf\"\n",
    "  decoded_url = decode_url(url)\n",
    "  print(decoded_url)\n"
   ]
  }
 ],
 "metadata": {
  "language_info": {
   "name": "python"
  },
  "orig_nbformat": 4
 },
 "nbformat": 4,
 "nbformat_minor": 2
}
