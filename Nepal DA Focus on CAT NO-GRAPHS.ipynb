{
 "cells": [
  {
   "attachments": {},
   "cell_type": "markdown",
   "metadata": {},
   "source": [
    "## Nepal Breakdown"
   ]
  },
  {
   "cell_type": "code",
   "execution_count": 64,
   "metadata": {},
   "outputs": [
    {
     "name": "stderr",
     "output_type": "stream",
     "text": [
      "C:\\Users\\tkmwangi\\AppData\\Local\\Temp\\ipykernel_23160\\3228248182.py:2: DtypeWarning: Columns (0) have mixed types. Specify dtype option on import or set low_memory=False.\n",
      "  df = pd.read_csv('C:/Users/tkmwangi/Documents/Data/COMBINED_SICS_RMS_DMP_ORG.csv')\n"
     ]
    }
   ],
   "source": [
    "import pandas as pd\n",
    "df = pd.read_csv('C:/Users/tkmwangi/Documents/Data/COMBINED_SICS_RMS_DMP_ORG.csv')\n",
    "df['CEDENT_COUNTRY'].value_counts()\n",
    "nepal_only = df.loc[df['CEDENT_COUNTRY'] == 'NEPAL']\n",
    "#Filtering to only have post 2015 data\n",
    "nepal_only = nepal_only.loc[nepal_only['UNDERWRITING_YEAR'] >= 2015]\n",
    "#nepal_only.info()\n",
    "#Replacing repeated cedant names that are duplicated\n",
    "nepal_only['CEDENT_NAME'] = nepal_only['CEDENT_NAME'].replace('GENERAL INSURANCE COMPANY LIMITED NEPAL', 'GENERAL INSURANCE COMPANY LIMITED, NEPAL')\n",
    "nepal_only['CEDENT_NAME'] = nepal_only['CEDENT_NAME'].replace('AJOD INSURANCE LIMITED NEPAL', 'AJOD INSURANCE LIMITED, NEPAL')\n",
    "nepal_only['CEDENT_NAME'] = nepal_only['CEDENT_NAME'].replace('IME GENERAL INSURANCE COMPANYNEPAL', 'IME GENERAL INSURANCE COMPANY,NEPAL')\n",
    "nepal_only['CEDENT_NAME'] = nepal_only['CEDENT_NAME'].replace('PRABHU INSURANCE LIMITEDNEPAL','PRABHU INSURANCE LIMITED,NEPAL')"
   ]
  },
  {
   "attachments": {},
   "cell_type": "markdown",
   "metadata": {},
   "source": [
    "##  Summary Overview\n",
    "\n",
    "* There are number 14 total cedants from nepal within the time period, 2015 - 2021\n",
    "* 2018 saw the largest jump un number of cedants from 8 to 14 in a single year, prior to 2018 the number of cedants was 8.\n",
    "* Fire is the most common line of bussiness associated with CAT, followed by Whole account and Motor "
   ]
  },
  {
   "attachments": {},
   "cell_type": "markdown",
   "metadata": {},
   "source": [
    "### Let's now get into the details, the plan is to find out which cedants/business is profitable or not\n",
    "\n",
    "1. Well split it by year and focus on the profitability by cedant for each year from 2015 to present\n",
    "2. Then split it by cedant and Line of business\n",
    "\n",
    "* We will also create a inflow and outflow column to be used later on"
   ]
  },
  {
   "cell_type": "code",
   "execution_count": 65,
   "metadata": {},
   "outputs": [
    {
     "name": "stdout",
     "output_type": "stream",
     "text": [
      "\n",
      " The graph indicates that the distribution of diff values has been quite similar over the period in question. \n",
      " With most values being near zero, with the negative values having a large range than the positive values\n",
      "\n",
      " The largest positive value is  6749549.76  with the largest negative value being  -15478234.0\n",
      "\n",
      " \n",
      " The statistical analysis of the difference in inflows vs outflows is as follows count    9.929000e+03\n",
      "mean     3.400547e+04\n",
      "std      4.649218e+05\n",
      "min     -1.547823e+07\n",
      "25%     -5.696000e+03\n",
      "50%      1.508370e+03\n",
      "75%      8.425996e+04\n",
      "max      6.749550e+06\n",
      "Name: Diff, dtype: float64\n"
     ]
    }
   ],
   "source": [
    "nepal_only['Inflows'] = nepal_only['BOOKED_PREMIUM'] + nepal_only['INTEREST_ON_DEPOSITS'] + nepal_only['PREMIUM_PORTFORLIO_IN'] \n",
    "nepal_only['Outflows'] = nepal_only['COMMISSION'] + nepal_only['BROKERAGE'] +nepal_only['PROFIT_COMMISSION'] + nepal_only['TAX_ON_INTEREST']  + nepal_only['OTHER_CHARGES'] + nepal_only['OVERRIDER_COMMISSION'] + nepal_only['CLAIM_PAID'] + nepal_only['PREMIUM_PORTFORLIO_OUT'] + nepal_only['OUTSTANDING_LOSSES'] + nepal_only['MANAGEMENT_EXPENSES']\n",
    "nepal_only['Diff'] = nepal_only['Inflows'] - nepal_only['Outflows']\n",
    "# Dropping the columns to make it easier to keep track of\n",
    "columns_to_drop = ['BOOKED_PREMIUM', 'COMMISSION','INTEREST_ON_DEPOSITS','BROKERAGE','PREMIUM_PORTFORLIO_IN','PROFIT_COMMISSION','TAX_ON_INTEREST','OTHER_CHARGES','OVERRIDER_COMMISSION','CLAIM_PAID','PREMIUM_PORTFORLIO_OUT','OUTSTANDING_LOSSES','MANAGEMENT_EXPENSES']\n",
    "nepal_only = nepal_only.drop(columns_to_drop, axis=1)\n",
    "#sn.kdeplot(x = nepal_only['Diff'], hue=nepal_only['UNDERWRITING_YEAR'], palette=\"crest\")\n",
    "print('\\n The graph indicates that the distribution of diff values has been quite similar over the period in question. \\n With most values being near zero, with the negative values having a large range than the positive values')\n",
    "max_diff = nepal_only['Diff'].max()\n",
    "min_diff = nepal_only['Diff'].min()\n",
    "print('\\n The largest positive value is ', max_diff, ' with the largest negative value being ',min_diff)\n",
    "\n",
    "ds = nepal_only['Diff'].describe()\n",
    "print('\\n \\n The statistical analysis of the difference in inflows vs outflows is as follows',ds)"
   ]
  },
  {
   "attachments": {},
   "cell_type": "markdown",
   "metadata": {},
   "source": [
    "### Lets begin drilling down year by year"
   ]
  },
  {
   "cell_type": "code",
   "execution_count": 66,
   "metadata": {},
   "outputs": [],
   "source": [
    "# Create an empty dictionary to store the DataFrames\n",
    "nepal_years = {}\n",
    "\n",
    "# Iterate over unique years in the 'UNDERWRITING_YEAR' column\n",
    "for year in nepal_only['UNDERWRITING_YEAR'].unique():\n",
    "    # Filter the DataFrame for the current year\n",
    "    year_df = nepal_only.loc[nepal_only['UNDERWRITING_YEAR'] == year].copy()\n",
    "    # Add the DataFrame to the dictionary with the year as the key\n",
    "    nepal_years[year] = year_df\n",
    "\n",
    "# Access the DataFrames for each year\n",
    "nepal_2015 = nepal_years[2015]\n",
    "nepal_2016 = nepal_years[2016]\n",
    "nepal_2017 = nepal_years[2017]\n",
    "nepal_2018 = nepal_years[2018]\n",
    "nepal_2019 = nepal_years[2019]\n",
    "nepal_2020 = nepal_years[2020]\n",
    "nepal_2021 = nepal_years[2021]\n",
    "nepal_2022 = nepal_years[2022]"
   ]
  },
  {
   "attachments": {},
   "cell_type": "markdown",
   "metadata": {},
   "source": [
    "### 2015"
   ]
  },
  {
   "cell_type": "code",
   "execution_count": 67,
   "metadata": {},
   "outputs": [
    {
     "name": "stdout",
     "output_type": "stream",
     "text": [
      "There are 116 unique contracts in 2015, from 8 cedants\n",
      "\n",
      " These are: \n",
      "\n",
      "\n",
      " The numbers on the right indicate the number of times the cedant name appears in the table\n"
     ]
    },
    {
     "data": {
      "text/plain": [
       "CEDENT_NAME\n",
       "PRUDENTIAL INSURANCE CO LTD            24\n",
       "NECO INSURANCE CO. LTD                 21\n",
       "SIDDHARTHA INSURANCE CO. LTD. NEPAL    17\n",
       "RASTRIYA BEEMA SANSTHAN                16\n",
       "EVEREST INSURANCE CO.LTD               15\n",
       "NEPAL INSURANCE LTD.                   14\n",
       "PREMIER INSURANCE CO.(NEPAL) LTD.       8\n",
       "NLG INSURANCE COMPANY LIMITED           1\n",
       "Name: count, dtype: int64"
      ]
     },
     "execution_count": 67,
     "metadata": {},
     "output_type": "execute_result"
    }
   ],
   "source": [
    "print('There are 116 unique contracts in 2015, from 8 cedants')\n",
    "print('\\n These are:', '\\n\\n\\n The numbers on the right indicate the number of times the cedant name appears in the table')\n",
    "current = nepal_2015[['CONTRACT_NO','CEDENT_NAME']].drop_duplicates()\n",
    "current['CEDENT_NAME'].value_counts()\n"
   ]
  },
  {
   "cell_type": "code",
   "execution_count": 68,
   "metadata": {},
   "outputs": [
    {
     "name": "stdout",
     "output_type": "stream",
     "text": [
      " The frequency of each LOB is as follows  ACT_LOB\n",
      "FIRE             62\n",
      "WHOLE_ACCOUNT    50\n",
      "MOTOR             8\n",
      "Name: count, dtype: int64\n"
     ]
    }
   ],
   "source": [
    "x = filtered_nepal_2021['ACT_LOB'].value_counts()\n",
    "print(' The frequency of each LOB is as follows ', x)"
   ]
  },
  {
   "cell_type": "code",
   "execution_count": 69,
   "metadata": {},
   "outputs": [
    {
     "name": "stdout",
     "output_type": "stream",
     "text": [
      "Difference values are calculated by summing inputs and outflow and finding the difference \n",
      "\n",
      "The number of negative difference values is:  0 and the number of positive values is:  69 .\n"
     ]
    }
   ],
   "source": [
    "# Create a list of values to filter, specifically anything related to CAT \n",
    "remove_list = ['XL-CAT THIRD','XL-CAT SECOND','XL-CAT FIRST','XL-CAT FOURTH','XL-CAT FIFTH','XL-RISK/CAT FOURTH','XL-RISK/CAT FIFTH','XL-CAT SIXTH']\n",
    "\n",
    "# Remove rows based on the list of values\n",
    "filtered_nepal_2015 = nepal_2015[nepal_2015['TYPE_OF_PARTICIPATION'].isin(remove_list)]\n",
    "data = filtered_nepal_2015['TYPE_OF_PARTICIPATION']\n",
    "\n",
    "\n",
    "filtered_nepal_2015['Diff'].value_counts()\n",
    "count_negative = (filtered_nepal_2015['Diff'] < 0).sum()\n",
    "count_positive = (filtered_nepal_2015['Diff'] > 0).sum()\n",
    "count_zero = (filtered_nepal_2015['Diff'] == 0).sum()\n",
    "print('Difference values are calculated by summing inputs and outflow and finding the difference \\n')\n",
    "print('The number of negative difference values is: ',count_negative, 'and the number of positive values is: ',count_positive , '.')\n"
   ]
  },
  {
   "attachments": {},
   "cell_type": "markdown",
   "metadata": {},
   "source": [
    "### 2016"
   ]
  },
  {
   "cell_type": "code",
   "execution_count": 70,
   "metadata": {},
   "outputs": [
    {
     "name": "stdout",
     "output_type": "stream",
     "text": [
      "There are 123 unique contracts in 2016, from 8 cedants\n",
      "\n",
      " These are:\n"
     ]
    },
    {
     "data": {
      "text/plain": [
       "CEDENT_NAME\n",
       "EVEREST INSURANCE CO.LTD               25\n",
       "NECO INSURANCE CO. LTD                 22\n",
       "SIDDHARTHA INSURANCE CO. LTD. NEPAL    22\n",
       "PRUDENTIAL INSURANCE CO LTD            16\n",
       "RASTRIYA BEEMA SANSTHAN                16\n",
       "NEPAL INSURANCE LTD.                   15\n",
       "PREMIER INSURANCE CO.(NEPAL) LTD.       6\n",
       "NLG INSURANCE COMPANY LIMITED           1\n",
       "Name: count, dtype: int64"
      ]
     },
     "execution_count": 70,
     "metadata": {},
     "output_type": "execute_result"
    }
   ],
   "source": [
    "print('There are 123 unique contracts in 2016, from 8 cedants')\n",
    "print('\\n These are:')\n",
    "current = nepal_2016[['CONTRACT_NO','CEDENT_NAME']].drop_duplicates()\n",
    "current['CEDENT_NAME'].value_counts()"
   ]
  },
  {
   "cell_type": "code",
   "execution_count": 71,
   "metadata": {},
   "outputs": [
    {
     "name": "stdout",
     "output_type": "stream",
     "text": [
      "The frequency of each LOB is as follows  ACT_LOB\n",
      "FIRE             50\n",
      "WHOLE_ACCOUNT    30\n",
      "MARINE            6\n",
      "Name: count, dtype: int64\n"
     ]
    }
   ],
   "source": [
    "# Create a list of values to filter, specifically anything related to CAT \n",
    "remove_list = ['XL-CAT THIRD','XL-CAT SECOND','XL-CAT FIRST','XL-CAT FOURTH','XL-CAT FIFTH','XL-RISK/CAT FOURTH','XL-RISK/CAT FIFTH','XL-CAT SIXTH']\n",
    "\n",
    "# Remove rows based on the list of values\n",
    "filtered_nepal_2016 = nepal_2016[nepal_2016['TYPE_OF_PARTICIPATION'].isin(remove_list)]\n",
    "data = filtered_nepal_2016['TYPE_OF_PARTICIPATION']\n",
    "x = filtered_nepal_2016['ACT_LOB'].value_counts()\n",
    "print('The frequency of each LOB is as follows ', x)"
   ]
  },
  {
   "cell_type": "code",
   "execution_count": 72,
   "metadata": {},
   "outputs": [
    {
     "name": "stdout",
     "output_type": "stream",
     "text": [
      "The number of negative difference values is:  0 and the number of positive values is:  86\n",
      "\n",
      " The are more positives than negatives\n"
     ]
    }
   ],
   "source": [
    "filtered_nepal_2016['Diff'].value_counts()\n",
    "count_negative = (filtered_nepal_2016['Diff'] < 0).sum()\n",
    "count_positive = (filtered_nepal_2016['Diff'] > 0).sum()\n",
    "print('The number of negative difference values is: ',count_negative, 'and the number of positive values is: ',count_positive)\n",
    "print('\\n The are more positives than negatives')"
   ]
  },
  {
   "attachments": {},
   "cell_type": "markdown",
   "metadata": {},
   "source": [
    "### 2017"
   ]
  },
  {
   "cell_type": "code",
   "execution_count": 73,
   "metadata": {},
   "outputs": [
    {
     "name": "stdout",
     "output_type": "stream",
     "text": [
      "There are 133 unique contracts in 2017, from 8 cedants\n",
      "\n",
      " These are: \n",
      "\n",
      "\n",
      " The numbers on the right indicate the number of times the cedant name appears in the table\n"
     ]
    },
    {
     "data": {
      "text/plain": [
       "CEDENT_NAME\n",
       "EVEREST INSURANCE CO.LTD               27\n",
       "SIDDHARTHA INSURANCE CO. LTD. NEPAL    22\n",
       "NECO INSURANCE CO. LTD                 21\n",
       "PRUDENTIAL INSURANCE CO LTD            18\n",
       "RASTRIYA BEEMA SANSTHAN                17\n",
       "NEPAL INSURANCE LTD.                   16\n",
       "PREMIER INSURANCE CO.(NEPAL) LTD.       8\n",
       "HIMALAYAN GENERAL INSURANCE CO LTD      4\n",
       "Name: count, dtype: int64"
      ]
     },
     "execution_count": 73,
     "metadata": {},
     "output_type": "execute_result"
    }
   ],
   "source": [
    "print('There are 133 unique contracts in 2017, from 8 cedants')\n",
    "print('\\n These are:', '\\n\\n\\n The numbers on the right indicate the number of times the cedant name appears in the table')\n",
    "current = nepal_2017[['CONTRACT_NO','CEDENT_NAME']].drop_duplicates()\n",
    "current['CEDENT_NAME'].value_counts()"
   ]
  },
  {
   "cell_type": "code",
   "execution_count": 74,
   "metadata": {},
   "outputs": [
    {
     "name": "stdout",
     "output_type": "stream",
     "text": [
      "The frequency of each LOB is as follows  ACT_LOB\n",
      "FIRE             52\n",
      "WHOLE_ACCOUNT    36\n",
      "Name: count, dtype: int64 \n",
      "\n",
      "\n",
      "The number of negative difference values is:  0 and the number of positive values is:  88\n",
      "\n",
      " The are more negatives than positives\n"
     ]
    }
   ],
   "source": [
    "# Create a list of values to filter, specifically anything related to CAT \n",
    "remove_list = ['XL-CAT THIRD','XL-CAT SECOND','XL-CAT FIRST','XL-CAT FOURTH','XL-CAT FIFTH','XL-RISK/CAT FOURTH','XL-RISK/CAT FIFTH','XL-CAT SIXTH']\n",
    "\n",
    "# Remove rows based on the list of values\n",
    "filtered_nepal_2017 = nepal_2017[nepal_2017['TYPE_OF_PARTICIPATION'].isin(remove_list)]\n",
    "data = filtered_nepal_2017['TYPE_OF_PARTICIPATION']\n",
    "\n",
    "x = filtered_nepal_2017['ACT_LOB'].value_counts()\n",
    "print('The frequency of each LOB is as follows ', x, '\\n\\n')\n",
    "\n",
    "\n",
    "filtered_nepal_2017['Diff'].value_counts()\n",
    "count_negative = (filtered_nepal_2017['Diff'] < 0).sum()\n",
    "count_positive = (filtered_nepal_2017['Diff'] > 0).sum()\n",
    "print('The number of negative difference values is: ',count_negative, 'and the number of positive values is: ',count_positive)\n",
    "print('\\n The are more negatives than positives')"
   ]
  },
  {
   "attachments": {},
   "cell_type": "markdown",
   "metadata": {},
   "source": [
    "### 2018"
   ]
  },
  {
   "cell_type": "code",
   "execution_count": 75,
   "metadata": {},
   "outputs": [
    {
     "name": "stdout",
     "output_type": "stream",
     "text": [
      "There are 255 unique contracts in 2018, from 17 cedants\n",
      "\n",
      " These are: \n",
      "\n",
      "\n",
      " *The numbers on the right indicate the number of times the cedant name appears in the table\n"
     ]
    },
    {
     "data": {
      "text/plain": [
       "CEDENT_NAME\n",
       "PRUDENTIAL INSURANCE CO LTD                 27\n",
       "NECO INSURANCE CO. LTD                      25\n",
       "HIMALAYAN GENERAL INSURANCE CO LTD          25\n",
       "SIDDHARTHA INSURANCE CO. LTD. NEPAL         24\n",
       "SANIMA INSURANCE COMPANY LIMITED            20\n",
       "PRABHU INSURANCE LIMITED,NEPAL              19\n",
       "RASTRIYA BEEMA SANSTHAN                     18\n",
       "AJOD INSURANCE LIMITED, NEPAL               18\n",
       "GENERAL INSURANCE COMPANY LIMITED, NEPAL    18\n",
       "IME GENERAL INSURANCE COMPANY,NEPAL         17\n",
       "EVEREST INSURANCE CO.LTD                    17\n",
       "NEPAL INSURANCE LTD.                        16\n",
       "PREMIER INSURANCE CO.(NEPAL) LTD.           11\n",
       "Name: count, dtype: int64"
      ]
     },
     "execution_count": 75,
     "metadata": {},
     "output_type": "execute_result"
    }
   ],
   "source": [
    "print('There are 255 unique contracts in 2018, from 17 cedants')\n",
    "print('\\n These are:','\\n\\n\\n *The numbers on the right indicate the number of times the cedant name appears in the table')\n",
    "current = nepal_2018[['CONTRACT_NO','CEDENT_NAME']].drop_duplicates()\n",
    "current['CEDENT_NAME'].value_counts()"
   ]
  },
  {
   "cell_type": "code",
   "execution_count": 76,
   "metadata": {},
   "outputs": [
    {
     "name": "stdout",
     "output_type": "stream",
     "text": [
      "The frequency of each LOB is as follows  ACT_LOB\n",
      "FIRE             90\n",
      "WHOLE_ACCOUNT    65\n",
      "Name: count, dtype: int64\n"
     ]
    }
   ],
   "source": [
    "# Create a list of values to filter, specifically anything related to CAT \n",
    "remove_list = ['XL-CAT THIRD','XL-CAT SECOND','XL-CAT FIRST','XL-CAT FOURTH','XL-CAT FIFTH','XL-RISK/CAT FOURTH','XL-RISK/CAT FIFTH','XL-CAT SIXTH']\n",
    "\n",
    "# Remove rows based on the list of values\n",
    "filtered_nepal_2018 = nepal_2018[nepal_2018['TYPE_OF_PARTICIPATION'].isin(remove_list)]\n",
    "data = filtered_nepal_2018['TYPE_OF_PARTICIPATION']\n",
    "x = filtered_nepal_2018['ACT_LOB'].value_counts()\n",
    "print('The frequency of each LOB is as follows ', x)"
   ]
  },
  {
   "cell_type": "code",
   "execution_count": 77,
   "metadata": {},
   "outputs": [
    {
     "name": "stdout",
     "output_type": "stream",
     "text": [
      "The number of negative difference values is:  12 and the number of positive values is:  121\n",
      "\n",
      " The are more positives than negatives\n"
     ]
    }
   ],
   "source": [
    "filtered_nepal_2018['Diff'].value_counts()\n",
    "count_negative = (filtered_nepal_2018['Diff'] < 0).sum()\n",
    "count_positive = (filtered_nepal_2018['Diff'] > 0).sum()\n",
    "print('The number of negative difference values is: ',count_negative, 'and the number of positive values is: ',count_positive)\n",
    "print('\\n The are more positives than negatives')"
   ]
  },
  {
   "attachments": {},
   "cell_type": "markdown",
   "metadata": {},
   "source": [
    "### 2019"
   ]
  },
  {
   "cell_type": "code",
   "execution_count": 78,
   "metadata": {},
   "outputs": [
    {
     "name": "stdout",
     "output_type": "stream",
     "text": [
      "There are 272 unique contracts in 2019, from 17 cedants\n",
      "\n",
      " These are: \n",
      "\n",
      "\n",
      " The numbers on the right indicate the number of times the cedant name appears in the table\n"
     ]
    },
    {
     "data": {
      "text/plain": [
       "CEDENT_NAME\n",
       "NECO INSURANCE CO. LTD                      26\n",
       "SIDDHARTHA INSURANCE CO. LTD. NEPAL         24\n",
       "HIMALAYAN GENERAL INSURANCE CO LTD          24\n",
       "PRUDENTIAL INSURANCE CO LTD                 24\n",
       "PRABHU INSURANCE LIMITED,NEPAL              23\n",
       "NEPAL INSURANCE LTD.                        23\n",
       "AJOD INSURANCE LIMITED, NEPAL               21\n",
       "SANIMA INSURANCE COMPANY LIMITED            21\n",
       "GENERAL INSURANCE COMPANY LIMITED, NEPAL    20\n",
       "EVEREST INSURANCE CO.LTD                    19\n",
       "RASTRIYA BEEMA SANSTHAN                     19\n",
       "IME GENERAL INSURANCE COMPANY,NEPAL         17\n",
       "PREMIER INSURANCE CO.(NEPAL) LTD.           11\n",
       "Name: count, dtype: int64"
      ]
     },
     "execution_count": 78,
     "metadata": {},
     "output_type": "execute_result"
    }
   ],
   "source": [
    "#CONTRACT_NO CEDENT_NAME\n",
    "print('There are 272 unique contracts in 2019, from 17 cedants')\n",
    "print('\\n These are:', '\\n\\n\\n The numbers on the right indicate the number of times the cedant name appears in the table')\n",
    "current = nepal_2019[['CONTRACT_NO','CEDENT_NAME']].drop_duplicates()\n",
    "current['CEDENT_NAME'].value_counts()"
   ]
  },
  {
   "cell_type": "code",
   "execution_count": 79,
   "metadata": {},
   "outputs": [
    {
     "name": "stdout",
     "output_type": "stream",
     "text": [
      "The frequency of each LOB is as follows  ACT_LOB\n",
      "FIRE             103\n",
      "WHOLE_ACCOUNT     29\n",
      "MOTOR             15\n",
      "Name: count, dtype: int64\n"
     ]
    }
   ],
   "source": [
    "# Create a list of values to filter, specifically anything related to CAT \n",
    "remove_list = ['XL-CAT THIRD','XL-CAT SECOND','XL-CAT FIRST','XL-CAT FOURTH','XL-CAT FIFTH','XL-RISK/CAT FOURTH','XL-RISK/CAT FIFTH','XL-CAT SIXTH']\n",
    "\n",
    "# Remove rows based on the list of values\n",
    "filtered_nepal_2019 = nepal_2019[nepal_2019['TYPE_OF_PARTICIPATION'].isin(remove_list)]\n",
    "data = filtered_nepal_2019['TYPE_OF_PARTICIPATION']\n",
    "\n",
    "x = filtered_nepal_2019['ACT_LOB'].value_counts()\n",
    "print('The frequency of each LOB is as follows ', x)"
   ]
  },
  {
   "cell_type": "code",
   "execution_count": 80,
   "metadata": {},
   "outputs": [
    {
     "name": "stdout",
     "output_type": "stream",
     "text": [
      "The number of negative difference values is:  6 and the number of positive values is:  121\n",
      "\n",
      " The are more positives than negatives\n"
     ]
    }
   ],
   "source": [
    "filtered_nepal_2019['Diff'].value_counts()\n",
    "count_negative = (filtered_nepal_2019['Diff'] < 0).sum()\n",
    "count_positive = (filtered_nepal_2019['Diff'] > 0).sum()\n",
    "print('The number of negative difference values is: ',count_negative, 'and the number of positive values is: ',count_positive)\n",
    "print('\\n The are more positives than negatives')"
   ]
  },
  {
   "attachments": {},
   "cell_type": "markdown",
   "metadata": {},
   "source": [
    "### 2020"
   ]
  },
  {
   "cell_type": "code",
   "execution_count": 81,
   "metadata": {},
   "outputs": [
    {
     "name": "stdout",
     "output_type": "stream",
     "text": [
      "There are 315 unique contracts in 2020, from 17 cedants\n",
      "\n",
      " These are: \n",
      "\n",
      "\n",
      " The numbers on the right indicate the number of times the cedant name appears in the table\n"
     ]
    },
    {
     "data": {
      "text/plain": [
       "CEDENT_NAME\n",
       "SIDDHARTHA INSURANCE CO. LTD. NEPAL         38\n",
       "RASTRIYA BEEMA SANSTHAN                     35\n",
       "SANIMA INSURANCE COMPANY LIMITED            32\n",
       "NECO INSURANCE CO. LTD                      27\n",
       "NEPAL INSURANCE LTD.                        26\n",
       "AJOD INSURANCE LIMITED, NEPAL               25\n",
       "GENERAL INSURANCE COMPANY LIMITED, NEPAL    24\n",
       "PRABHU INSURANCE LIMITED,NEPAL              24\n",
       "PRUDENTIAL INSURANCE CO LTD                 24\n",
       "EVEREST INSURANCE CO.LTD                    18\n",
       "IME GENERAL INSURANCE COMPANY,NEPAL         17\n",
       "PREMIER INSURANCE CO.(NEPAL) LTD.           13\n",
       "HIMALAYAN GENERAL INSURANCE CO LTD          12\n",
       "Name: count, dtype: int64"
      ]
     },
     "execution_count": 81,
     "metadata": {},
     "output_type": "execute_result"
    }
   ],
   "source": [
    "#CONTRACT_NO CEDENT_NAME\n",
    "print('There are 315 unique contracts in 2020, from 17 cedants')\n",
    "print('\\n These are:', '\\n\\n\\n The numbers on the right indicate the number of times the cedant name appears in the table')\n",
    "current = nepal_2020[['CONTRACT_NO','CEDENT_NAME']].drop_duplicates()\n",
    "current['CEDENT_NAME'].value_counts()"
   ]
  },
  {
   "cell_type": "code",
   "execution_count": 82,
   "metadata": {},
   "outputs": [
    {
     "name": "stdout",
     "output_type": "stream",
     "text": [
      "The frequency of each LOB is as follows  ACT_LOB\n",
      "FIRE             73\n",
      "WHOLE_ACCOUNT    39\n",
      "MOTOR            12\n",
      "Name: count, dtype: int64\n"
     ]
    }
   ],
   "source": [
    "# Create a list of values to filter, specifically anything related to CAT \n",
    "remove_list = ['XL-CAT THIRD','XL-CAT SECOND','XL-CAT FIRST','XL-CAT FOURTH','XL-CAT FIFTH','XL-RISK/CAT FOURTH','XL-RISK/CAT FIFTH','XL-CAT SIXTH']\n",
    "\n",
    "# Remove rows based on the list of values\n",
    "filtered_nepal_2020 = nepal_2020[nepal_2020['TYPE_OF_PARTICIPATION'].isin(remove_list)]\n",
    "data = filtered_nepal_2020['TYPE_OF_PARTICIPATION']\n",
    "x = filtered_nepal_2020['ACT_LOB'].value_counts()\n",
    "print('The frequency of each LOB is as follows ', x)"
   ]
  },
  {
   "cell_type": "code",
   "execution_count": 83,
   "metadata": {},
   "outputs": [
    {
     "name": "stdout",
     "output_type": "stream",
     "text": [
      "The number of negative difference values is:  9 and the number of positive values is:  98\n",
      "\n",
      " The are more positives than negatives\n"
     ]
    }
   ],
   "source": [
    "filtered_nepal_2020['Diff'].value_counts()\n",
    "count_negative = (filtered_nepal_2020['Diff'] < 0).sum()\n",
    "count_positive = (filtered_nepal_2020['Diff'] > 0).sum()\n",
    "print('The number of negative difference values is: ',count_negative, 'and the number of positive values is: ',count_positive)\n",
    "print('\\n The are more positives than negatives')\n",
    "\n"
   ]
  },
  {
   "attachments": {},
   "cell_type": "markdown",
   "metadata": {},
   "source": [
    "### 2021"
   ]
  },
  {
   "cell_type": "code",
   "execution_count": 84,
   "metadata": {},
   "outputs": [
    {
     "name": "stdout",
     "output_type": "stream",
     "text": [
      "There are 352 unique contracts in 2021, from 16 cedants\n",
      "\n",
      " These are: \n",
      "\n",
      "\n",
      " The numbers on the right indicate the number of times the cedant name appears in the table\n"
     ]
    },
    {
     "data": {
      "text/plain": [
       "CEDENT_NAME\n",
       "SIDDHARTHA INSURANCE CO. LTD. NEPAL         35\n",
       "HIMALAYAN GENERAL INSURANCE CO LTD          35\n",
       "AJOD INSURANCE LIMITED, NEPAL               34\n",
       "GENERAL INSURANCE COMPANY LIMITED, NEPAL    34\n",
       "PRUDENTIAL INSURANCE CO LTD                 32\n",
       "PRABHU INSURANCE LIMITED,NEPAL              32\n",
       "RASTRIYA BEEMA SANSTHAN                     28\n",
       "NEPAL INSURANCE LTD.                        28\n",
       "NECO INSURANCE CO. LTD                      28\n",
       "EVEREST INSURANCE CO.LTD                    26\n",
       "IME GENERAL INSURANCE COMPANY,NEPAL         26\n",
       "PREMIER INSURANCE CO.(NEPAL) LTD.           14\n",
       "Name: count, dtype: int64"
      ]
     },
     "execution_count": 84,
     "metadata": {},
     "output_type": "execute_result"
    }
   ],
   "source": [
    "#CONTRACT_NO CEDENT_NAME\n",
    "print('There are 352 unique contracts in 2021, from 16 cedants')\n",
    "print('\\n These are:', '\\n\\n\\n The numbers on the right indicate the number of times the cedant name appears in the table')\n",
    "current = nepal_2021[['CONTRACT_NO','CEDENT_NAME']].drop_duplicates()\n",
    "current['CEDENT_NAME'].value_counts()"
   ]
  },
  {
   "cell_type": "code",
   "execution_count": 85,
   "metadata": {},
   "outputs": [
    {
     "name": "stdout",
     "output_type": "stream",
     "text": [
      "The frequency of each LOB is as follows  ACT_LOB\n",
      "FIRE             62\n",
      "WHOLE_ACCOUNT    50\n",
      "MOTOR             8\n",
      "Name: count, dtype: int64\n"
     ]
    }
   ],
   "source": [
    "# Create a list of values to filter, specifically anything related to CAT \n",
    "remove_list = ['XL-CAT THIRD','XL-CAT SECOND','XL-CAT FIRST','XL-CAT FOURTH','XL-CAT FIFTH','XL-RISK/CAT FOURTH','XL-RISK/CAT FIFTH','XL-CAT SIXTH']\n",
    "\n",
    "# Remove rows based on the list of values\n",
    "filtered_nepal_2021 = nepal_2021[nepal_2021['TYPE_OF_PARTICIPATION'].isin(remove_list)]\n",
    "data = filtered_nepal_2021['TYPE_OF_PARTICIPATION']\n",
    "x = filtered_nepal_2021['ACT_LOB'].value_counts()\n",
    "print('The frequency of each LOB is as follows ', x)"
   ]
  },
  {
   "cell_type": "code",
   "execution_count": 86,
   "metadata": {},
   "outputs": [
    {
     "name": "stdout",
     "output_type": "stream",
     "text": [
      "The number of negative difference values is:  9 and the number of positive values is:  111\n",
      "\n",
      " The are more positives than negatives\n"
     ]
    }
   ],
   "source": [
    "filtered_nepal_2021['Diff'].value_counts()\n",
    "count_negative = (filtered_nepal_2021['Diff'] < 0).sum()\n",
    "count_positive = (filtered_nepal_2021['Diff'] > 0).sum()\n",
    "print('The number of negative difference values is: ',count_negative, 'and the number of positive values is: ',count_positive)\n",
    "print('\\n The are more positives than negatives')\n",
    "\n"
   ]
  },
  {
   "attachments": {},
   "cell_type": "markdown",
   "metadata": {},
   "source": [
    "### 2022"
   ]
  },
  {
   "cell_type": "code",
   "execution_count": 87,
   "metadata": {},
   "outputs": [
    {
     "name": "stdout",
     "output_type": "stream",
     "text": [
      "There are 150 unique contracts in 2022, from 11 cedants\n",
      "\n",
      " These are: \n",
      "\n",
      "\n",
      " The numbers on the right indicate the number of times the cedant name appears in the table\n"
     ]
    },
    {
     "data": {
      "text/plain": [
       "CEDENT_NAME\n",
       "HIMALAYAN GENERAL INSURANCE CO LTD          17\n",
       "PRABHU INSURANCE LIMITED,NEPAL              16\n",
       "PRUDENTIAL INSURANCE CO LTD                 15\n",
       "RASTRIYA BEEMA SANSTHAN                     14\n",
       "IME GENERAL INSURANCE COMPANY,NEPAL         14\n",
       "AJOD INSURANCE LIMITED, NEPAL               14\n",
       "GENERAL INSURANCE COMPANY LIMITED, NEPAL    14\n",
       "SIDDHARTHA INSURANCE CO. LTD. NEPAL         13\n",
       "NECO INSURANCE CO. LTD                      12\n",
       "NEPAL INSURANCE LTD.                        11\n",
       "PREMIER INSURANCE CO.(NEPAL) LTD.           10\n",
       "Name: count, dtype: int64"
      ]
     },
     "execution_count": 87,
     "metadata": {},
     "output_type": "execute_result"
    }
   ],
   "source": [
    "#CONTRACT_NO CEDENT_NAME\n",
    "print('There are 150 unique contracts in 2022, from 11 cedants')\n",
    "print('\\n These are:', '\\n\\n\\n The numbers on the right indicate the number of times the cedant name appears in the table')\n",
    "current = nepal_2022[['CONTRACT_NO','CEDENT_NAME']].drop_duplicates()\n",
    "current['CEDENT_NAME'].value_counts()"
   ]
  },
  {
   "cell_type": "code",
   "execution_count": 88,
   "metadata": {},
   "outputs": [
    {
     "name": "stdout",
     "output_type": "stream",
     "text": [
      " The frequency of each LOB is as follows  ACT_LOB\n",
      "FIRE             73\n",
      "WHOLE_ACCOUNT    39\n",
      "MOTOR            12\n",
      "Name: count, dtype: int64\n"
     ]
    }
   ],
   "source": [
    "x = filtered_nepal_2020['ACT_LOB'].value_counts()\n",
    "print(' The frequency of each LOB is as follows ', x)"
   ]
  },
  {
   "cell_type": "code",
   "execution_count": 89,
   "metadata": {},
   "outputs": [
    {
     "name": "stdout",
     "output_type": "stream",
     "text": [
      "The frequency of each LOB is as follows  Series([], Name: count, dtype: int64)\n"
     ]
    }
   ],
   "source": [
    "# Remove rows based on the list of values\n",
    "filtered_nepal_2022 = nepal_2022[nepal_2022['TYPE_OF_PARTICIPATION'].isin(remove_list)]\n",
    "filtered_nepal_2022 = nepal_2022.loc[nepal_2022['TYPE_OF_PARTICIPATION'].isin(['XL-CAT THIRD','XL-CAT SECOND','XL-CAT FIRST','XL-CAT FOURTH','XL-CAT FIFTH','XL-RISK/CAT FOURTH','XL-RISK/CAT FIFTH','XL-CAT SIXTH'])]\n",
    "\n",
    "data = filtered_nepal_2022['TYPE_OF_PARTICIPATION']\n",
    "\n",
    "# Compute value counts using pandas value_counts()\n",
    "value_counts = data.value_counts()\n",
    "filtered_nepal_2022\n",
    "\n",
    "x = filtered_nepal_2022['ACT_LOB'].value_counts()\n",
    "print('The frequency of each LOB is as follows ', x)  \n",
    "\n"
   ]
  },
  {
   "attachments": {},
   "cell_type": "markdown",
   "metadata": {},
   "source": [
    "### There are no CAT related entries as of 2022"
   ]
  }
 ],
 "metadata": {
  "kernelspec": {
   "display_name": "Python 3",
   "language": "python",
   "name": "python3"
  },
  "language_info": {
   "codemirror_mode": {
    "name": "ipython",
    "version": 3
   },
   "file_extension": ".py",
   "mimetype": "text/x-python",
   "name": "python",
   "nbconvert_exporter": "python",
   "pygments_lexer": "ipython3",
   "version": "3.11.4"
  },
  "orig_nbformat": 4
 },
 "nbformat": 4,
 "nbformat_minor": 2
}
